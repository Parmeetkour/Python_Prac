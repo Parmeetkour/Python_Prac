{
 "cells": [
  {
   "cell_type": "code",
   "execution_count": 5,
   "id": "a5d1cf5b",
   "metadata": {},
   "outputs": [
    {
     "name": "stdout",
     "output_type": "stream",
     "text": [
      "1\n",
      "3\n",
      "5\n",
      "7\n",
      "9\n"
     ]
    }
   ],
   "source": [
    "# code to iterate over a list\n",
    "list = [1, 3, 5, 7, 9]\n",
    "# Using for loop\n",
    "for i in list:\n",
    "    print(i)"
   ]
  },
  {
   "cell_type": "code",
   "execution_count": 6,
   "id": "110eedb5",
   "metadata": {},
   "outputs": [
    {
     "name": "stdout",
     "output_type": "stream",
     "text": [
      "1\n",
      "3\n",
      "5\n",
      "7\n",
      "9\n"
     ]
    }
   ],
   "source": [
    "# code to iterate over a list\n",
    "list = [1, 3, 5, 7, 9]\n",
    " # getting length of list\n",
    "length = len(list)\n",
    " # Iterating the index\n",
    "# same as 'for i in range(len(list))'\n",
    "for i in range(length):\n",
    "  print(list[i])"
   ]
  },
  {
   "cell_type": "code",
   "execution_count": 7,
   "id": "d4dcd222",
   "metadata": {},
   "outputs": [
    {
     "name": "stdout",
     "output_type": "stream",
     "text": [
      "1\n",
      "3\n",
      "5\n",
      "7\n",
      "9\n"
     ]
    }
   ],
   "source": [
    "# code to iterate over a list\n",
    "list = [1, 3, 5, 7, 9]\n",
    "# Getting length of list\n",
    "length = len(list)\n",
    "i = 0\n",
    " # Iterating using while loop\n",
    "while i < length:\n",
    "    print(list[i])\n",
    "    i += 1"
   ]
  },
  {
   "cell_type": "code",
   "execution_count": 10,
   "id": "fa2f3dac",
   "metadata": {},
   "outputs": [
    {
     "name": "stdout",
     "output_type": "stream",
     "text": [
      "1\n",
      "3\n",
      "5\n",
      "7\n",
      "9\n"
     ]
    },
    {
     "data": {
      "text/plain": [
       "[None, None, None, None, None]"
      ]
     },
     "execution_count": 10,
     "metadata": {},
     "output_type": "execute_result"
    }
   ],
   "source": [
    "# code to iterate over a list\n",
    "list = [1, 3, 5, 7, 9]\n",
    "# Using list comprehension\n",
    "[print(i) for i in list]"
   ]
  },
  {
   "cell_type": "code",
   "execution_count": 15,
   "id": "176fa4d5",
   "metadata": {},
   "outputs": [
    {
     "name": "stdout",
     "output_type": "stream",
     "text": [
      "dict_keys(['Gujarat', 'Maharashtra', 'Rajasthan', 'Bihar'])\n"
     ]
    }
   ],
   "source": [
    "# 1\n",
    "statesAndCapitals = {\n",
    "    'Gujarat': 'Gandhinagar',\n",
    "    'Maharashtra': 'Mumbai',\n",
    "    'Rajasthan': 'Jaipur',\n",
    "    'Bihar': 'Patna'\n",
    "}\n",
    "keys = statesAndCapitals.keys()\n",
    "print(keys)"
   ]
  },
  {
   "cell_type": "code",
   "execution_count": 16,
   "id": "3303d122",
   "metadata": {},
   "outputs": [
    {
     "name": "stdout",
     "output_type": "stream",
     "text": [
      "List Of given states:\n",
      "\n",
      "Gujarat\n",
      "Maharashtra\n",
      "Rajasthan\n",
      "Bihar\n"
     ]
    }
   ],
   "source": [
    "# 2\n",
    "statesAndCapitals = {\n",
    "    'Gujarat': 'Gandhinagar',\n",
    "    'Maharashtra': 'Mumbai',\n",
    "    'Rajasthan': 'Jaipur',\n",
    "    'Bihar': 'Patna'\n",
    "}\n",
    "print('List Of given states:\\n')\n",
    "# Iterating over keys\n",
    "for state in statesAndCapitals:\n",
    "    print(state) "
   ]
  },
  {
   "cell_type": "code",
   "execution_count": 17,
   "id": "c5c86ea0",
   "metadata": {},
   "outputs": [
    {
     "name": "stdout",
     "output_type": "stream",
     "text": [
      "List Of given capitals:\n",
      "\n",
      "Gandhinagar\n",
      "Mumbai\n",
      "Jaipur\n",
      "Patna\n"
     ]
    }
   ],
   "source": [
    "# 3\n",
    "statesAndCapitals = {\n",
    "    'Gujarat': 'Gandhinagar',\n",
    "    'Maharashtra': 'Mumbai',\n",
    "    'Rajasthan': 'Jaipur',\n",
    "    'Bihar': 'Patna'\n",
    "}\n",
    "print('List Of given capitals:\\n')\n",
    "# Iterating over values\n",
    "for capital in statesAndCapitals.values():\n",
    "    print(capital)"
   ]
  },
  {
   "cell_type": "code",
   "execution_count": 18,
   "id": "68a18cf3",
   "metadata": {},
   "outputs": [
    {
     "name": "stdout",
     "output_type": "stream",
     "text": [
      "List Of given states and their capitals:\n",
      "\n",
      "Gujarat : Gandhinagar\n",
      "Maharashtra : Mumbai\n",
      "Rajasthan : Jaipur\n",
      "Bihar : Patna\n"
     ]
    }
   ],
   "source": [
    "# 4\n",
    "statesAndCapitals = {\n",
    "    'Gujarat': 'Gandhinagar',\n",
    "    'Maharashtra': 'Mumbai',\n",
    "    'Rajasthan': 'Jaipur',\n",
    "    'Bihar': 'Patna'\n",
    "} \n",
    "print('List Of given states and their capitals:\\n')\n",
    "# Iterating over values\n",
    "for state, capital in statesAndCapitals.items():\n",
    "    print(state, \":\", capital)"
   ]
  },
  {
   "cell_type": "code",
   "execution_count": 19,
   "id": "196fc941",
   "metadata": {},
   "outputs": [
    {
     "name": "stdout",
     "output_type": "stream",
     "text": [
      "Gujarat -> Gandhinagar\n",
      "Maharashtra -> Mumbai\n",
      "Rajasthan -> Jaipur\n",
      "Bihar -> Patna\n"
     ]
    }
   ],
   "source": [
    "# 5\n",
    "statesAndCapitals = {\n",
    "    'Gujarat': 'Gandhinagar',\n",
    "    'Maharashtra': 'Mumbai',\n",
    "    'Rajasthan': 'Jaipur',\n",
    "    'Bihar': 'Patna'\n",
    "}\n",
    "for i in statesAndCapitals:\n",
    "    print(i, '->', statesAndCapitals[i])"
   ]
  },
  {
   "cell_type": "code",
   "execution_count": 20,
   "id": "626bdec8",
   "metadata": {},
   "outputs": [
    {
     "name": "stdout",
     "output_type": "stream",
     "text": [
      "dict_items([('Gujarat', 'Gandhinagar'), ('Maharashtra', 'Mumbai'), ('Rajasthan', 'Jaipur'), ('Bihar', 'Patna')])\n"
     ]
    }
   ],
   "source": [
    "# 6\n",
    "statesAndCapitals = {\n",
    "    'Gujarat': 'Gandhinagar',\n",
    "    'Maharashtra': 'Mumbai',\n",
    "    'Rajasthan': 'Jaipur',\n",
    "    'Bihar': 'Patna'\n",
    "}\n",
    "keys = statesAndCapitals.items()\n",
    "print(keys)"
   ]
  },
  {
   "cell_type": "code",
   "execution_count": null,
   "id": "2922dd64",
   "metadata": {},
   "outputs": [],
   "source": [
    "+"
   ]
  }
 ],
 "metadata": {
  "kernelspec": {
   "display_name": "Python 3 (ipykernel)",
   "language": "python",
   "name": "python3"
  },
  "language_info": {
   "codemirror_mode": {
    "name": "ipython",
    "version": 3
   },
   "file_extension": ".py",
   "mimetype": "text/x-python",
   "name": "python",
   "nbconvert_exporter": "python",
   "pygments_lexer": "ipython3",
   "version": "3.9.12"
  }
 },
 "nbformat": 4,
 "nbformat_minor": 5
}
